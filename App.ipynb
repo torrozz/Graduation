{
  "nbformat": 4,
  "nbformat_minor": 0,
  "metadata": {
    "colab": {
      "provenance": [],
      "gpuType": "T4",
      "authorship_tag": "ABX9TyO574shRyW8maQUril80ZR0",
      "include_colab_link": true
    },
    "kernelspec": {
      "name": "python3",
      "display_name": "Python 3"
    },
    "language_info": {
      "name": "python"
    },
    "accelerator": "GPU"
  },
  "cells": [
    {
      "cell_type": "markdown",
      "metadata": {
        "id": "view-in-github",
        "colab_type": "text"
      },
      "source": [
        "<a href=\"https://colab.research.google.com/github/torrozz/Graduation/blob/main/App.ipynb\" target=\"_parent\"><img src=\"https://colab.research.google.com/assets/colab-badge.svg\" alt=\"Open In Colab\"/></a>"
      ]
    },
    {
      "cell_type": "code",
      "source": [
        "# Cài đặt streamlit và pyngrok để chạy trong Colab\n",
        "!pip install -q streamlit pyngrok fastai\n",
        "\n",
        "# Tạo file cấu hình để tránh lỗi default browser\n",
        "!mkdir -p ~/.streamlit\n",
        "with open(\"/root/.streamlit/config.toml\", \"w\") as f:\n",
        "    f.write(\"\"\"\n",
        "[server]\n",
        "headless = true\n",
        "enableCORS=false\n",
        "port = 8501\n",
        "\"\"\")\n"
      ],
      "metadata": {
        "colab": {
          "base_uri": "https://localhost:8080/"
        },
        "id": "xQ9uB-gZvSLX",
        "outputId": "b9c21977-50c7-4bbb-f850-9eeb1088ecfb"
      },
      "execution_count": null,
      "outputs": [
        {
          "output_type": "stream",
          "name": "stdout",
          "text": [
            "\u001b[2K     \u001b[90m━━━━━━━━━━━━━━━━━━━━━━━━━━━━━━━━━━━━━━━\u001b[0m \u001b[32m44.3/44.3 kB\u001b[0m \u001b[31m739.1 kB/s\u001b[0m eta \u001b[36m0:00:00\u001b[0m\n",
            "\u001b[2K   \u001b[90m━━━━━━━━━━━━━━━━━━━━━━━━━━━━━━━━━━━━━━━━\u001b[0m \u001b[32m10.1/10.1 MB\u001b[0m \u001b[31m16.8 MB/s\u001b[0m eta \u001b[36m0:00:00\u001b[0m\n",
            "\u001b[2K   \u001b[90m━━━━━━━━━━━━━━━━━━━━━━━━━━━━━━━━━━━━━━━━\u001b[0m \u001b[32m6.9/6.9 MB\u001b[0m \u001b[31m31.4 MB/s\u001b[0m eta \u001b[36m0:00:00\u001b[0m\n",
            "\u001b[2K   \u001b[90m━━━━━━━━━━━━━━━━━━━━━━━━━━━━━━━━━━━━━━━━\u001b[0m \u001b[32m363.4/363.4 MB\u001b[0m \u001b[31m4.5 MB/s\u001b[0m eta \u001b[36m0:00:00\u001b[0m\n",
            "\u001b[2K   \u001b[90m━━━━━━━━━━━━━━━━━━━━━━━━━━━━━━━━━━━━━━━━\u001b[0m \u001b[32m13.8/13.8 MB\u001b[0m \u001b[31m69.7 MB/s\u001b[0m eta \u001b[36m0:00:00\u001b[0m\n",
            "\u001b[2K   \u001b[90m━━━━━━━━━━━━━━━━━━━━━━━━━━━━━━━━━━━━━━━━\u001b[0m \u001b[32m24.6/24.6 MB\u001b[0m \u001b[31m36.2 MB/s\u001b[0m eta \u001b[36m0:00:00\u001b[0m\n",
            "\u001b[2K   \u001b[90m━━━━━━━━━━━━━━━━━━━━━━━━━━━━━━━━━━━━━━━━\u001b[0m \u001b[32m883.7/883.7 kB\u001b[0m \u001b[31m48.0 MB/s\u001b[0m eta \u001b[36m0:00:00\u001b[0m\n",
            "\u001b[2K   \u001b[90m━━━━━━━━━━━━━━━━━━━━━━━━━━━━━━━━━━━━━━━━\u001b[0m \u001b[32m664.8/664.8 MB\u001b[0m \u001b[31m2.1 MB/s\u001b[0m eta \u001b[36m0:00:00\u001b[0m\n",
            "\u001b[2K   \u001b[90m━━━━━━━━━━━━━━━━━━━━━━━━━━━━━━━━━━━━━━━━\u001b[0m \u001b[32m211.5/211.5 MB\u001b[0m \u001b[31m5.4 MB/s\u001b[0m eta \u001b[36m0:00:00\u001b[0m\n",
            "\u001b[2K   \u001b[90m━━━━━━━━━━━━━━━━━━━━━━━━━━━━━━━━━━━━━━━━\u001b[0m \u001b[32m56.3/56.3 MB\u001b[0m \u001b[31m12.3 MB/s\u001b[0m eta \u001b[36m0:00:00\u001b[0m\n",
            "\u001b[2K   \u001b[90m━━━━━━━━━━━━━━━━━━━━━━━━━━━━━━━━━━━━━━━━\u001b[0m \u001b[32m127.9/127.9 MB\u001b[0m \u001b[31m7.5 MB/s\u001b[0m eta \u001b[36m0:00:00\u001b[0m\n",
            "\u001b[2K   \u001b[90m━━━━━━━━━━━━━━━━━━━━━━━━━━━━━━━━━━━━━━━━\u001b[0m \u001b[32m207.5/207.5 MB\u001b[0m \u001b[31m5.5 MB/s\u001b[0m eta \u001b[36m0:00:00\u001b[0m\n",
            "\u001b[2K   \u001b[90m━━━━━━━━━━━━━━━━━━━━━━━━━━━━━━━━━━━━━━━━\u001b[0m \u001b[32m21.1/21.1 MB\u001b[0m \u001b[31m108.9 MB/s\u001b[0m eta \u001b[36m0:00:00\u001b[0m\n",
            "\u001b[2K   \u001b[90m━━━━━━━━━━━━━━━━━━━━━━━━━━━━━━━━━━━━━━━━\u001b[0m \u001b[32m79.1/79.1 kB\u001b[0m \u001b[31m7.8 MB/s\u001b[0m eta \u001b[36m0:00:00\u001b[0m\n",
            "\u001b[?25h"
          ]
        }
      ]
    },
    {
      "cell_type": "code",
      "source": [
        "from google.colab import drive\n",
        "drive.mount('/content/drive')\n"
      ],
      "metadata": {
        "colab": {
          "base_uri": "https://localhost:8080/"
        },
        "id": "E7520LOHz1f9",
        "outputId": "7636139a-1288-491c-f18c-474dcf1d9ea0"
      },
      "execution_count": null,
      "outputs": [
        {
          "output_type": "stream",
          "name": "stdout",
          "text": [
            "Mounted at /content/drive\n"
          ]
        }
      ]
    },
    {
      "cell_type": "code",
      "source": [
        "# Copy 5 model .pkl từ MyDrive về thư mục làm việc\n",
        "!cp \"/content/drive/MyDrive/breast_cancer_model.pkl\" /content/\n",
        "!cp \"/content/drive/MyDrive/oral_cancer_model.pkl\" /content/\n",
        "!cp \"/content/drive/MyDrive/colon_model.pkl\" /content/\n",
        "!cp \"/content/drive/MyDrive/kidney_cancer_model.pkl\" /content/\n",
        "!cp \"/content/drive/MyDrive/metastatic_model.pkl\" /content/\n",
        "!cp \"/content/drive/MyDrive/breast_cancer.pkl\" /content/\n",
        "!cp \"/content/drive/MyDrive/lung_cancer_model.pkl\" /content/\n",
        "print(\"✅ Đã copy toàn bộ model vào thư mục làm việc!\")"
      ],
      "metadata": {
        "colab": {
          "base_uri": "https://localhost:8080/"
        },
        "id": "ZTGM3Wn50loq",
        "outputId": "59fb1015-16c2-4942-8347-27025d766c75"
      },
      "execution_count": null,
      "outputs": [
        {
          "output_type": "stream",
          "name": "stdout",
          "text": [
            "✅ Đã copy toàn bộ model vào thư mục làm việc!\n"
          ]
        }
      ]
    },
    {
      "cell_type": "code",
      "source": [
        "%%writefile app.py\n",
        "import streamlit as st\n",
        "from fastai.vision.all import *\n",
        "from PIL import Image\n",
        "import os\n",
        "\n",
        "st.set_page_config(page_title=\"Ung thư AI\", layout=\"centered\")\n",
        "st.title(\"🔬 Dự đoán ung thư và di căn từ ảnh\")\n",
        "\n",
        "# Bộ upload ảnh dùng chung\n",
        "uploaded_file = st.file_uploader(\"📤 Tải ảnh y tế\", type=[\"jpg\", \"jpeg\", \"png\", \"tif\"])\n",
        "\n",
        "# Hàm dự đoán\n",
        "def predict_image(model_path, file):\n",
        "    learn_inf = load_learner(model_path)\n",
        "    temp_filename = \"temp_img.tif\"\n",
        "\n",
        "    with open(temp_filename, \"wb\") as f:\n",
        "        f.write(file.getvalue())\n",
        "\n",
        "    img = PILImage.create(temp_filename)\n",
        "    test_dl = learn_inf.dls.test_dl([img])\n",
        "\n",
        "    with learn_inf.no_bar(), learn_inf.no_logging():\n",
        "        preds, _ = learn_inf.get_preds(dl=test_dl)\n",
        "\n",
        "    probs = preds[0]\n",
        "    pred_idx = torch.argmax(probs).item()\n",
        "\n",
        "    if hasattr(learn_inf.dls, 'vocab'):\n",
        "        pred_class = learn_inf.dls.vocab[pred_idx]\n",
        "    else:\n",
        "        pred_class = str(pred_idx)\n",
        "\n",
        "    os.remove(temp_filename)\n",
        "    return pred_class, probs\n",
        "\n",
        "# Biến lưu xác suất và trạng thái để kiểm tra di căn\n",
        "cancer_probs = None\n",
        "image_to_check = None  # Lưu ảnh để dùng khi chuyển sang dự đoán di căn\n",
        "\n",
        "# --- Ung thư vú ---\n",
        "if st.button(\"🩺 Dự đoán Ung thư vú\"):\n",
        "    if uploaded_file is None:\n",
        "        st.warning(\"⚠️ Vui lòng tải ảnh lên trước.\")\n",
        "    else:\n",
        "        st.image(uploaded_file, caption=\"Ảnh đã chọn\", use_container_width=True)\n",
        "        pred_class, probs = predict_image(\"breast_cancer_model.pkl\", uploaded_file)\n",
        "        st.success(f\"🧠 Dự đoán: {pred_class}\")\n",
        "        st.info(f\"📊 Xác suất:\\n🟢 Không Ung thư: {probs[0]:.4f}\\n🔴 Có Ung thư: {probs[1]:.4f}\")\n",
        "        cancer_probs = probs\n",
        "        image_to_check = uploaded_file  # Lưu ảnh để kiểm tra di căn\n",
        "\n",
        "# --- Ung thư miệng ---\n",
        "if st.button(\"🦷 Dự đoán Ung thư miệng\"):\n",
        "    if uploaded_file is None:\n",
        "        st.warning(\"⚠️ Vui lòng tải ảnh lên trước.\")\n",
        "    else:\n",
        "        st.image(uploaded_file, caption=\"Ảnh đã chọn\", use_container_width=True)\n",
        "        pred_class, probs = predict_image(\"oral_cancer_model.pkl\", uploaded_file)\n",
        "        st.success(f\"🔍 Dự đoán: {pred_class}\")\n",
        "        st.info(f\"📊 Xác suất:\\n🟢 Không Ung thư: {probs[0]:.4f}\\n🔴 Có Ung thư: {probs[1]:.4f}\")\n",
        "        cancer_probs = probs\n",
        "        image_to_check = uploaded_file  # Lưu ảnh để kiểm tra di căn\n",
        "\n",
        "# --- Ung thư đại tràng ---\n",
        "if st.button(\"🧬 Dự đoán Ung thư đại tràng\"):\n",
        "    if uploaded_file is None:\n",
        "        st.warning(\"⚠️ Vui lòng tải ảnh lên trước.\")\n",
        "    else:\n",
        "        st.image(uploaded_file, caption=\"Ảnh đã chọn\", use_container_width=True)\n",
        "        pred_class, probs = predict_image(\"colon_model.pkl\", uploaded_file)\n",
        "        st.success(f\"🧫 Kết quả dự đoán: {pred_class}\")\n",
        "        st.info(f\"📊 Xác suất:\\n🟢 Không Ung thư: {probs[0]:.4f}\\n🔴 Có Ung thư: {probs[1]:.4f}\")\n",
        "        cancer_probs = probs\n",
        "        image_to_check = uploaded_file  # Lưu ảnh để kiểm tra di căn\n",
        "\n",
        "# --- Ung thư thận ---\n",
        "if st.button(\"🧪 Dự đoán Ung thư phổi\"):\n",
        "    if uploaded_file is None:\n",
        "        st.warning(\"⚠️ Vui lòng tải ảnh lên trước.\")\n",
        "    else:\n",
        "        st.image(uploaded_file, caption=\"Ảnh đã chọn\", use_container_width=True)\n",
        "        pred_class, probs = predict_image(\"lung_cancer_model.pkl\", uploaded_file)\n",
        "        st.success(f\"📌 Kết quả dự đoán: {pred_class}\")\n",
        "        st.info(f\"📊 Xác suất:\\n🟢 Không Ung thư: {probs[0]:.4f}\\n🔴 Có Ung thư: {probs[1]:.4f}\")\n",
        "        cancer_probs = probs\n",
        "        image_to_check = uploaded_file  # Lưu ảnh để kiểm tra di căn\n",
        "\n",
        "# # --- Di căn ---\n",
        "# if cancer_probs is not None and cancer_probs[1] > cancer_probs[0]:\n",
        "#     if st.button(\"🧠 Dự đoán Di căn\"):\n",
        "#         if image_to_check is None:\n",
        "#             st.warning(\"⚠️ Vui lòng tải ảnh lên trước.\")\n",
        "#         else:\n",
        "#             st.image(image_to_check, caption=\"Ảnh đã chọn\", use_container_width=True)\n",
        "#             pred_class, probs = predict_image(\"metastatic_model.pkl\", image_to_check)\n",
        "#             st.success(f\"🧬 Kết quả dự đoán: {pred_class}\")\n",
        "#             st.info(f\"📊 Xác suất:\\n🟢 Non-Metastatic: {probs[0]:.4f}\\n🔴 Metastatic: {probs[1]:.4f}\")\n",
        "# else:\n",
        "#     if cancer_probs is not None and cancer_probs[0] > cancer_probs[1]:\n",
        "#         st.warning(\"⚠️ Hình ảnh không có ung thư, không thể dự đoán di căn.\")\n",
        "# Lưu vào session_state để tránh mất khi reload\n",
        "if cancer_probs is not None:\n",
        "    st.session_state[\"cancer_probs\"] = cancer_probs\n",
        "    st.session_state[\"image_to_check\"] = image_to_check\n",
        "\n",
        "# --- Di căn ---\n",
        "if \"cancer_probs\" in st.session_state and st.session_state[\"cancer_probs\"][1] > st.session_state[\"cancer_probs\"][0]:\n",
        "    if st.button(\"🧠 Dự đoán Di căn\"):\n",
        "        img_file = st.session_state[\"image_to_check\"]\n",
        "        st.image(img_file, caption=\"Ảnh đã chọn\", use_container_width=True)\n",
        "        pred_class, probs = predict_image(\"metastatic_model.pkl\", img_file)\n",
        "        st.success(f\"🧬 Kết quả dự đoán: {pred_class}\")\n",
        "        st.info(f\"📊 Xác suất:\\n🟢 Non-Metastatic: {probs[0]:.4f}\\n🔴 Metastatic: {probs[1]:.4f}\")\n",
        "\n",
        "elif \"cancer_probs\" in st.session_state and st.session_state[\"cancer_probs\"][0] > st.session_state[\"cancer_probs\"][1]:\n",
        "    st.warning(\"⚠️ Hình ảnh không có ung thư, không thể dự đoán di căn.\")\n",
        "\n"
      ],
      "metadata": {
        "colab": {
          "base_uri": "https://localhost:8080/"
        },
        "id": "_y0PgJtQbqQO",
        "outputId": "e64d4577-1964-448e-a7bf-5f2b82a4e44b"
      },
      "execution_count": null,
      "outputs": [
        {
          "output_type": "stream",
          "name": "stdout",
          "text": [
            "Writing app.py\n"
          ]
        }
      ]
    },
    {
      "cell_type": "code",
      "source": [
        "%%writefile app.py\n",
        "import streamlit as st\n",
        "from fastai.vision.all import *\n",
        "from PIL import Image\n",
        "import os\n",
        "\n",
        "st.set_page_config(page_title=\"Ung thư AI\", layout=\"centered\")\n",
        "st.title(\"🔬 Dự đoán ung thư và di căn từ ảnh\")\n",
        "\n",
        "# Bộ upload ảnh dùng chung\n",
        "uploaded_file = st.file_uploader(\"📤 Tải ảnh y tế\", type=[\"jpg\", \"jpeg\", \"png\", \"tif\"])\n",
        "\n",
        "# Hàm dự đoán\n",
        "def predict_image(model_path, file):\n",
        "    learn_inf = load_learner(model_path)\n",
        "    temp_filename = \"temp_img.tif\"\n",
        "\n",
        "    with open(temp_filename, \"wb\") as f:\n",
        "        f.write(file.getvalue())\n",
        "\n",
        "    img = PILImage.create(temp_filename)\n",
        "    test_dl = learn_inf.dls.test_dl([img])\n",
        "\n",
        "    with learn_inf.no_bar(), learn_inf.no_logging():\n",
        "        preds, _ = learn_inf.get_preds(dl=test_dl)\n",
        "\n",
        "    probs = preds[0]\n",
        "    pred_idx = torch.argmax(probs).item()\n",
        "\n",
        "    if hasattr(learn_inf.dls, 'vocab'):\n",
        "        pred_class = learn_inf.dls.vocab[pred_idx]\n",
        "    else:\n",
        "        pred_class = str(pred_idx)\n",
        "\n",
        "    os.remove(temp_filename)\n",
        "    return pred_class, probs\n",
        "\n",
        "# Biến lưu xác suất và trạng thái để kiểm tra di căn\n",
        "cancer_probs = None\n",
        "image_to_check = None\n",
        "selected_cancer_type = None  # NEW: lưu loại ung thư được chọn\n",
        "\n",
        "# --- Ung thư vú ---\n",
        "if st.button(\"🩺 Dự đoán Ung thư vú\"):\n",
        "    if uploaded_file is None:\n",
        "        st.warning(\"⚠️ Vui lòng tải ảnh lên trước.\")\n",
        "    else:\n",
        "        st.image(uploaded_file, caption=\"Ảnh đã chọn\", use_container_width=True)\n",
        "        pred_class, probs = predict_image(\"breast_cancer_model.pkl\", uploaded_file)\n",
        "        st.success(f\"🧠 Dự đoán: {pred_class}\")\n",
        "        st.info(f\"📊 Xác suất:\\n🟢 Không Ung thư: {probs[0]:.4f}\\n🔴 Có Ung thư: {probs[1]:.4f}\")\n",
        "        cancer_probs = probs\n",
        "        image_to_check = uploaded_file\n",
        "        selected_cancer_type = \"breast\"\n",
        "\n",
        "# --- Ung thư miệng ---\n",
        "if st.button(\"🦷 Dự đoán Ung thư miệng\"):\n",
        "    if uploaded_file is None:\n",
        "        st.warning(\"⚠️ Vui lòng tải ảnh lên trước.\")\n",
        "    else:\n",
        "        st.image(uploaded_file, caption=\"Ảnh đã chọn\", use_container_width=True)\n",
        "        pred_class, probs = predict_image(\"oral_cancer_model.pkl\", uploaded_file)\n",
        "        st.success(f\"🔍 Dự đoán: {pred_class}\")\n",
        "        st.info(f\"📊 Xác suất:\\n🟢 Không Ung thư: {probs[0]:.4f}\\n🔴 Có Ung thư: {probs[1]:.4f}\")\n",
        "        cancer_probs = probs\n",
        "        image_to_check = uploaded_file\n",
        "        selected_cancer_type = \"oral\"\n",
        "\n",
        "# --- Ung thư đại tràng ---\n",
        "if st.button(\"🧬 Dự đoán Ung thư đại tràng\"):\n",
        "    if uploaded_file is None:\n",
        "        st.warning(\"⚠️ Vui lòng tải ảnh lên trước.\")\n",
        "    else:\n",
        "        st.image(uploaded_file, caption=\"Ảnh đã chọn\", use_container_width=True)\n",
        "        pred_class, probs = predict_image(\"colon_model.pkl\", uploaded_file)\n",
        "        st.success(f\"🧫 Kết quả dự đoán: {pred_class}\")\n",
        "        st.info(f\"📊 Xác suất:\\n🟢 Không Ung thư: {probs[0]:.4f}\\n🔴 Có Ung thư: {probs[1]:.4f}\")\n",
        "        cancer_probs = probs\n",
        "        image_to_check = uploaded_file\n",
        "        selected_cancer_type = \"colon\"\n",
        "\n",
        "# --- Ung thư phổi ---\n",
        "if st.button(\"🧪 Dự đoán Ung thư phổi\"):\n",
        "    if uploaded_file is None:\n",
        "        st.warning(\"⚠️ Vui lòng tải ảnh lên trước.\")\n",
        "    else:\n",
        "        st.image(uploaded_file, caption=\"Ảnh đã chọn\", use_container_width=True)\n",
        "        pred_class, probs = predict_image(\"lung_cancer_model.pkl\", uploaded_file)\n",
        "        st.success(f\"📌 Kết quả dự đoán: {pred_class}\")\n",
        "        st.info(f\"📊 Xác suất:\\n🟢 Không Ung thư: {probs[0]:.4f}\\n🔴 Có Ung thư: {probs[1]:.4f}\")\n",
        "        cancer_probs = probs\n",
        "        image_to_check = uploaded_file\n",
        "        selected_cancer_type = \"lung\"\n",
        "\n",
        "# Lưu vào session_state\n",
        "if cancer_probs is not None:\n",
        "    st.session_state[\"cancer_probs\"] = cancer_probs\n",
        "    st.session_state[\"image_to_check\"] = image_to_check\n",
        "    st.session_state[\"selected_cancer_type\"] = selected_cancer_type\n",
        "\n",
        "# --- Di căn (chỉ cho ung thư vú) ---\n",
        "if (\n",
        "    \"cancer_probs\" in st.session_state\n",
        "    and \"selected_cancer_type\" in st.session_state\n",
        "    and st.session_state[\"selected_cancer_type\"] == \"breast\"\n",
        "    and st.session_state[\"cancer_probs\"][1] > st.session_state[\"cancer_probs\"][0]\n",
        "):\n",
        "    if st.button(\"🧠 Dự đoán Di căn\"):\n",
        "        img_file = st.session_state[\"image_to_check\"]\n",
        "        st.image(img_file, caption=\"Ảnh đã chọn\", use_container_width=True)\n",
        "        pred_class, probs = predict_image(\"metastatic_model.pkl\", img_file)\n",
        "        st.success(f\"🧬 Kết quả dự đoán: {pred_class}\")\n",
        "        st.info(f\"📊 Xác suất:\\n🟢 Non-Metastatic: {probs[0]:.4f}\\n🔴 Metastatic: {probs[1]:.4f}\")\n",
        "\n",
        "elif (\n",
        "    \"cancer_probs\" in st.session_state\n",
        "    and st.session_state[\"cancer_probs\"][0] > st.session_state[\"cancer_probs\"][1]\n",
        "):\n",
        "    st.warning(\"⚠️ Hình ảnh không có ung thư, không thể dự đoán di căn.\")\n"
      ],
      "metadata": {
        "colab": {
          "base_uri": "https://localhost:8080/"
        },
        "id": "JhgWBHSbdODi",
        "outputId": "acb27805-cc08-4078-c3f8-3ed812052f3e"
      },
      "execution_count": null,
      "outputs": [
        {
          "output_type": "stream",
          "name": "stdout",
          "text": [
            "Writing app.py\n"
          ]
        }
      ]
    },
    {
      "cell_type": "code",
      "source": [
        "!ngrok config add-authtoken 2vNHTgQSBzIYQeTDgkfwfvgvb0k_4frZVtGHvp4uLbuH5qKig"
      ],
      "metadata": {
        "colab": {
          "base_uri": "https://localhost:8080/"
        },
        "id": "W_pOppHG5FMu",
        "outputId": "f4fb5ede-0aa4-4025-dfe4-71d2c8d98660"
      },
      "execution_count": null,
      "outputs": [
        {
          "output_type": "stream",
          "name": "stdout",
          "text": [
            "Authtoken saved to configuration file: /root/.config/ngrok/ngrok.yml\n"
          ]
        }
      ]
    },
    {
      "cell_type": "code",
      "source": [
        "!rm -rf ~/.streamlit\n",
        "!mkdir -p ~/.streamlit\n"
      ],
      "metadata": {
        "id": "felW-Fyd5XcG"
      },
      "execution_count": null,
      "outputs": []
    },
    {
      "cell_type": "code",
      "source": [
        "with open(\"/root/.streamlit/config.toml\", \"w\") as f:\n",
        "    f.write(\"\"\"\n",
        "[server]\n",
        "headless = true\n",
        "port = 8501\n",
        "enableCORS = false\n",
        "\"\"\")\n"
      ],
      "metadata": {
        "id": "ZZGw3hLS5Y7e"
      },
      "execution_count": null,
      "outputs": []
    },
    {
      "cell_type": "code",
      "source": [
        "!pkill streamlit\n",
        "!pkill -f ngrok\n"
      ],
      "metadata": {
        "id": "hhmZ98vd7qdR"
      },
      "execution_count": null,
      "outputs": []
    },
    {
      "cell_type": "code",
      "source": [
        "from pyngrok import ngrok\n",
        "\n",
        "!streamlit run app.py &>/content/log.txt &\n",
        "\n",
        "url = ngrok.connect(8501)\n",
        "print(f\"🚀 Trang web của bạn đang chạy tại: {url}\")\n"
      ],
      "metadata": {
        "colab": {
          "base_uri": "https://localhost:8080/"
        },
        "id": "Iuk1d38X5asY",
        "outputId": "0c7c6988-8d21-4949-984c-0d33a0a00666"
      },
      "execution_count": null,
      "outputs": [
        {
          "output_type": "stream",
          "name": "stdout",
          "text": [
            "🚀 Trang web của bạn đang chạy tại: NgrokTunnel: \"https://f797-34-143-163-110.ngrok-free.app\" -> \"http://localhost:8501\"\n"
          ]
        }
      ]
    }
  ]
}